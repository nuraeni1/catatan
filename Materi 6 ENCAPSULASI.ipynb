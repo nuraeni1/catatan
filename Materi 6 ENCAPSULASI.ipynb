{
 "cells": [
  {
   "cell_type": "code",
   "execution_count": null,
   "metadata": {},
   "outputs": [],
   "source": [
    "                                                        BAB VI\n",
    "\n",
    "                                                    ENCAPSULATION\n",
    "        \n",
    " Class  \n",
    "1.\tPrivate instance variables and private method\n",
    "    Akses dari luar class terbatas.\n",
    "2.\tPublic instance variables and public method\n",
    "    Dapat mengakses dimana saja melalui class object.\n",
    "•\tSatu garis bawah : variable privat, seharusnya tidak diakses secara langsung. \n",
    "    Tetapi tidak ada yang menghentikan anda melakukan hal itu(konvensi ekseptif).\n",
    "•\tGaris bawah ganda : variable pribadi, lebih sulit diakses tapi masih memungkinkan.\n",
    "\n",
    "- Private methods\n",
    "        Function ini tidak dapat dipanggil pada object secara langsung, hanya dari dalam class\n",
    "\n",
    "- Private variables \n",
    "        Hanya dapat diubah dalam class method dan bukan diluar class.\n",
    "        Kita dapat membatasi akses ke method dan variable. Ini mencegah data dari modifikasi langsung yang dipanggil encapsulasi.\n",
    "        Konsep ini sedikit rumit untuk dijelaska. Menyembunyikan rincian implementasi (tidak diperlukan untuk mengetahui) \n",
    "        ini di panggi encapsulasi.\n"
   ]
  },
  {
   "cell_type": "code",
   "execution_count": 7,
   "metadata": {},
   "outputs": [
    {
     "name": "stdout",
     "output_type": "stream",
     "text": [
      "3\n"
     ]
    }
   ],
   "source": [
    "#Getter yaitu Method yang digunakan untuk menampilkan Variabel yang Terproteksi double Underscore didepannya\n",
    "#Setter yaitu Method yang berfungsi untuk mengubah isi dari variabelnya.\n",
    "#Method variable ini, privat bisa diakses menggunakan akses secara tidak langsung kepada variable privat. \n",
    "class robot:\n",
    "    def __init__(self):\n",
    "        self.a=1\n",
    "        self._b=2\n",
    "        self.__c=3\n",
    "    def getter(self):\n",
    "        print(self.__c)\n",
    "    def setter(self,arg):\n",
    "        self.__c=arg\n",
    "obj=robot()\n",
    "obj.getter()\n",
    "obj.setter(\"Var C Telah berubah\")"
   ]
  }
 ],
 "metadata": {
  "kernelspec": {
   "display_name": "Python 3",
   "language": "python",
   "name": "python3"
  },
  "language_info": {
   "codemirror_mode": {
    "name": "ipython",
    "version": 3
   },
   "file_extension": ".py",
   "mimetype": "text/x-python",
   "name": "python",
   "nbconvert_exporter": "python",
   "pygments_lexer": "ipython3",
   "version": "3.6.4"
  }
 },
 "nbformat": 4,
 "nbformat_minor": 2
}
