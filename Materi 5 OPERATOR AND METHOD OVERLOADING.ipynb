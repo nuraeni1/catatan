{
 "cells": [
  {
   "cell_type": "code",
   "execution_count": null,
   "metadata": {},
   "outputs": [],
   "source": [
    "                                                        BAB V\n",
    "\n",
    "                                        OPERATOR AND METHOD OVERLOADING\n",
    "        \n",
    "\tMendefinisikan dua method produk, tetapi hanya dapat menggunakan method produk kedua, \n",
    "    karena python tidak mendukung method overloading. \n",
    "    Dapat mendefinisikan banyak method dengan nama yang sama dan argumen yang berbeda. \n",
    "    Hanya dapat menggunakan method terbaru yang di tentukan. Memanggil method lain akan akan menghasilkan error.\n",
    "\tMETHOD OVERLOADING\n",
    "    •\tTentukan method dengan banyak cara untuk memanggilnya.\n",
    "    •\tDiberikan method atau function tunggal, kita dapat menentukan jumlah parameter sendiri. Tergantung pada definisi function, itu dapat dipanggil dengan nol, satu, dua atau lebih parameter.\n",
    "\n",
    "\tOPERATOR OVERLOADING\n",
    "\tOperator overloading memungkinkan untuk mendefinisikan kembali makna operator + operator => \n",
    "    untuk menambahkan dua object angka, serta dua objek string karena operator + kelebihan beban baik oleh \n",
    "    class int dan class str.\n",
    "\tMagic Method : \n",
    "    •\tOperator overloading dicapai dengan mendefinisikan special method dalam definisi class.\n",
    "    •\tx + y\n",
    "x.__add__(y).\n",
    "Menggaris bawahi ganda di awal dan di akhir.\n",
    "\n"
   ]
  },
  {
   "cell_type": "code",
   "execution_count": 2,
   "metadata": {},
   "outputs": [
    {
     "name": "stdout",
     "output_type": "stream",
     "text": [
      "Ini hanya Menampilkan B =  <__main__.obj object at 0x0000016E48BF1F98>\n"
     ]
    }
   ],
   "source": [
    "#Method Overloading\n",
    "class obj:\n",
    "    def tampil(b=None):\n",
    "        if b is not None:\n",
    "            print('Ini hanya Menampilkan B = ',b)\n",
    "        else:\n",
    "            print('B = Kosong')\n",
    "a=obj()\n",
    "a.tampil()"
   ]
  },
  {
   "cell_type": "code",
   "execution_count": 1,
   "metadata": {},
   "outputs": [
    {
     "name": "stdout",
     "output_type": "stream",
     "text": [
      "Point This Object is at: (3,6)\n"
     ]
    }
   ],
   "source": [
    "#operator Overloading\n",
    "class point:\n",
    "    def __init__(self,x=0,y=0):\n",
    "        self.x=x\n",
    "        self.y=y\n",
    "    def __str__(self):\n",
    "        return 'Point This Object is at: ('+str(self.x)+','+str(self.y)+')'\n",
    "    def __add__(self,other):\n",
    "        x=self.x+other.x\n",
    "        y=self.y+other.y\n",
    "        return point(x,y)\n",
    "p1=point(1,2)\n",
    "p2=point(2,4)\n",
    "print(p1+p2)"
   ]
  },
  {
   "cell_type": "code",
   "execution_count": null,
   "metadata": {},
   "outputs": [],
   "source": []
  }
 ],
 "metadata": {
  "kernelspec": {
   "display_name": "Python 3",
   "language": "python",
   "name": "python3"
  },
  "language_info": {
   "codemirror_mode": {
    "name": "ipython",
    "version": 3
   },
   "file_extension": ".py",
   "mimetype": "text/x-python",
   "name": "python",
   "nbconvert_exporter": "python",
   "pygments_lexer": "ipython3",
   "version": "3.6.4"
  }
 },
 "nbformat": 4,
 "nbformat_minor": 2
}
