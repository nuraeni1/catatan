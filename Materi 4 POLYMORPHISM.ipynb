{
 "cells": [
  {
   "cell_type": "code",
   "execution_count": null,
   "metadata": {},
   "outputs": [],
   "source": [
    "                                                        BAB IV\n",
    "                                                    POLYMORPHISM\n",
    "\n",
    "\tPolymorphism didasarkan pada kata-kata yunani. Poly(banyak) dan Morphism(bentuk).\n",
    "    Membuat struktur yang dapat mengambil atau menggunakan banyak bentuk object. Mengaksesnya menggunakan method yang sama.\n",
    "\tPOLYMORPHISM WITH FUNCTION\n",
    "    Membuat function yang dapat mengambil object apapun,menggunakan untuk polymorphism.\n",
    "\tPOLYMORPHISM WITH CLASS METHODS\n",
    "    Method ini dengan cara tanpa mengetahui atau peduli apa jenis class masing-masing object ini. \n",
    "    Method ini menggunakan cara polymorphic.\n",
    "\n"
   ]
  },
  {
   "cell_type": "code",
   "execution_count": 4,
   "metadata": {},
   "outputs": [
    {
     "name": "stdout",
     "output_type": "stream",
     "text": [
      "Cicak Berjalan dengan kaki\n",
      "Ikan Berenang\n"
     ]
    }
   ],
   "source": [
    "#Polymorphism with function\n",
    "class cicak:\n",
    "    def jalan(self):\n",
    "        print(\"Cicak Berjalan dengan kaki\")\n",
    "class ikan:\n",
    "    def jalan(self):\n",
    "        print(\"Ikan Berenang\")\n",
    "cck = cicak()\n",
    "cck.jalan() #Ini polimortphism\n",
    "\n",
    "ikn = ikan()\n",
    "ikn.jalan() #Isinya Berbeda"
   ]
  },
  {
   "cell_type": "code",
   "execution_count": 7,
   "metadata": {},
   "outputs": [
    {
     "name": "stdout",
     "output_type": "stream",
     "text": [
      "Scan Piagam  :  Show pdf content\n",
      "Python - Inheritance  :  Show word content\n",
      "CodeBlockk - Part 4  :  Show pdf content\n"
     ]
    }
   ],
   "source": [
    "#Polymorphism with class method\n",
    "class doct:\n",
    "    def __init__(self,tipe):\n",
    "        self.tipe=tipe\n",
    "class pdf(docu):\n",
    "    def show(self):\n",
    "        return \"Show pdf content\"\n",
    "class word(docu):\n",
    "    def show(self):\n",
    "        return \"Show word content\"\n",
    "\n",
    "document=(pdf(\"Scan Piagam\"),word(\"Python - Inheritance\"),pdf(\"CodeBlockk - Part 4\"))\n",
    "for i in document:\n",
    "    print(i.tipe,\" : \",i.show())"
   ]
  }
 ],
 "metadata": {
  "kernelspec": {
   "display_name": "Python 3",
   "language": "python",
   "name": "python3"
  },
  "language_info": {
   "codemirror_mode": {
    "name": "ipython",
    "version": 3
   },
   "file_extension": ".py",
   "mimetype": "text/x-python",
   "name": "python",
   "nbconvert_exporter": "python",
   "pygments_lexer": "ipython3",
   "version": "3.6.4"
  }
 },
 "nbformat": 4,
 "nbformat_minor": 2
}
