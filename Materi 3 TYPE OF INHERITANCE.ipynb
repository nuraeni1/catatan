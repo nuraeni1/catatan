{
 "cells": [
  {
   "cell_type": "code",
   "execution_count": null,
   "metadata": {},
   "outputs": [],
   "source": [
    "                                                    BAB III\n",
    "\n",
    "                                                TYPE OF INHERITANCE\n",
    "        \n",
    "•\tClass dapat mewarisi function dari class lain. Jika suatu object dibuat mengguanakan class yang mewarisi dari superclass, \n",
    "    object akan berisi method dari kedua class dan superclass\n",
    "•\tInheritance atau pewarisan yaitu konsep pemrograman class yang dapat melakukan penurunan property dan method yang dimilikinya\n",
    "    kepada class lain.\n",
    "Type :\n",
    " \n",
    "1.\tDefault\t: Property, Property, dan Method\n",
    "    Sama dengan class induknya\n",
    "2.\tOverriding\t: Property/method, Property dan Method\n",
    "    Menggunakan beberapa perilaku parent class tetapi tidak semuanya. \n",
    "    Ketika mengubah method parent class, lalu kita menimpanya. \n",
    "    Memungkinkan child class untuk memberikan implementasi yang berbeda untuk method yang sudah ditetapkan atau diimplementasikan\n",
    "    dalam salah satu parent class. \n",
    "    Method overriding di child class harus memiliki nama, tanda tangan, dan parameter yang sama dengan yang ada di parent class.\n",
    "3.\tSuper\t\t: Property\n",
    "    Fungsi super() yang paling sering digunakan dalam __init__, karena di sanalah kemungkinan besar perlu menambahkan \n",
    "    beberapa keunikan ke child class dan menyelesaikan inisialisasi dari parent class.\n",
    "4.\tMultiple\t: \n",
    "      Ketika class dapat mewarisi atribut dan method dari lebih dari satu parent class.\n"
   ]
  },
  {
   "cell_type": "code",
   "execution_count": 5,
   "metadata": {},
   "outputs": [
    {
     "name": "stdout",
     "output_type": "stream",
     "text": [
      "Hiu\n",
      "Besar\n"
     ]
    }
   ],
   "source": [
    "#Super\n",
    "class Fish:\n",
    "    def __init__(self,fish=\"Hiu\"):\n",
    "        self.fish=fish\n",
    "    def pnj(self):\n",
    "        print(self.fish)\n",
    "        print(self.water)\n",
    "class trout(Fish):\n",
    "    def __init__(self,water=\"Besar\"):\n",
    "        self.water=water\n",
    "        Fish.__init__(self)\n",
    "        #Atau :\n",
    "        #super().__init__(self)\n",
    "en=trout()\n",
    "en.pnj()"
   ]
  },
  {
   "cell_type": "code",
   "execution_count": 1,
   "metadata": {},
   "outputs": [
    {
     "name": "stdout",
     "output_type": "stream",
     "text": [
      "Coral lives in a community\n",
      "The anemone is protecting the clownfish\n"
     ]
    }
   ],
   "source": [
    "#Multiple\n",
    "class CoralSea :\n",
    "    def community(self):\n",
    "        print(\"Coral lives in a community\")\n",
    "class Anemone :\n",
    "    def protect_clownfish(self):\n",
    "        print (\"The anemone is protecting the clownfish\")\n",
    "class CoralReef(CoralSea,Anemone):\n",
    "    pass\n",
    "\n",
    "great_barrier = CoralReef()\n",
    "great_barrier.community()\n",
    "great_barrier.protect_clownfish()\n"
   ]
  },
  {
   "cell_type": "code",
   "execution_count": null,
   "metadata": {},
   "outputs": [],
   "source": [
    "#Overriding\n",
    "class Segitiga:\n",
    "    def __init__(self,jumlahsegi=\"3\",bentuksegitiga=\"Sembarang\"):\n",
    "        self.jumlahsegi=jumlahsegi\n",
    "        self.bentuksegitiga=bentuksegitiga\n",
    "    def ps(self):\n",
    "        print(self.jumlahsegi,self.bentuksegitiga,\"\\n\")\n",
    "        \n",
    "class SegitigaSamaKaki(Segitiga):\n",
    "    def __init__(self,jumlahsegi=\"3\",bentuksegitiga=\"Sama Kaki\"):\n",
    "        self.jumlahsegi=jumlahsegi\n",
    "        self.bentuksegitiga=bentuksegitiga\n",
    "        \n",
    "class SegitigaSamaSisi(Segitiga):\n",
    "    def __init__(self,jumlahsegi=\"3\",bentuksegitiga=\"Sama Sisi\"):\n",
    "        self.jumlahsegi=jumlahsegi\n",
    "        self.bentuksegitiga=bentuksegitiga\n",
    "\n",
    "s=Segitiga()\n",
    "s.ps()\n",
    "a=SegitigaSamaKaki()\n",
    "a.ps()\n",
    "b=SegitigaSamaSisi()\n",
    "b.ps()"
   ]
  },
  {
   "cell_type": "code",
   "execution_count": null,
   "metadata": {},
   "outputs": [],
   "source": [
    "#Default\n",
    "class hiu(induk):\n",
    "    pass"
   ]
  }
 ],
 "metadata": {
  "kernelspec": {
   "display_name": "Python 3",
   "language": "python",
   "name": "python3"
  },
  "language_info": {
   "codemirror_mode": {
    "name": "ipython",
    "version": 3
   },
   "file_extension": ".py",
   "mimetype": "text/x-python",
   "name": "python",
   "nbconvert_exporter": "python",
   "pygments_lexer": "ipython3",
   "version": "3.6.4"
  }
 },
 "nbformat": 4,
 "nbformat_minor": 2
}
