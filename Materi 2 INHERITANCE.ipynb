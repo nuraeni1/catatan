{
 "cells": [
  {
   "cell_type": "code",
   "execution_count": null,
   "metadata": {},
   "outputs": [],
   "source": [
    "                                                    BAB II\n",
    "\n",
    "                                                INHERITANCE\n",
    "        \n",
    "-\tClass dapat mewarisi function dari class lain. Jika suatu objek dibuat menggunakan class yang mewarisi superclass, \n",
    "    object akan berisi method dari kedua class dan superclass.\n",
    "-\tInheritance adalah ketika kelas menggunakan code yang dibangun dalam class lain. \n",
    "    Jika berpikir tentang inheritance dalam hal biology, dapat diumpamakan anak  mewarisi orang tua(child inherit a parents).\n",
    "-\tClass yang disebut class anak (child class) atau subclass mewarisi method dan variabel dari induk atau clas dasar(base class).\n",
    "\n",
    "    \tParent classes / Base classes\n",
    "    \tClass orang tua,  awal atau class utama\n",
    "    \tChild classes / Sub classes\n",
    " \n",
    "\tClass anak atau subclass. Memiliki 3 type :\n",
    "    •\tSimple Inheritance : pada class anak hanya mempunyai satu class inherit dari class orang tua.\n",
    "    •\tMultilevel Inheritance : pada class anak mempunyai satu class yang multilevel  inherit dari class orang tua.\n",
    "    •\tHeirarchical Inheritance : pada class anak mempunyai lebih dari 1 class yang inherit dari class orang tua.\n",
    "\n",
    "Ex :\n",
    "•\tMendefinisikan class bernama User, ini membuat contoh yang dipanggil Brian.\n",
    "•\tLalu membuat class lain yang dipanggil Programmer yang masih inherit dr class User. \n",
    "    Ini terlihat sangat mirip standart class kecuali dari class User diberikan dalam parameter. \n",
    "    Ini berarti semua function dari class user dapat diakses dari class Programmer.\n",
    "\n"
   ]
  },
  {
   "cell_type": "code",
   "execution_count": 1,
   "metadata": {},
   "outputs": [
    {
     "name": "stdout",
     "output_type": "stream",
     "text": [
      "Name = Aeni\n",
      "Name = Cantik\n",
      "Sedang belajar programming python\n"
     ]
    }
   ],
   "source": [
    "class User :\n",
    "    name = \"\"\n",
    "    def __init__(self,name):\n",
    "        self.name = name\n",
    "    def printName(self):\n",
    "        print (\"Name = \"+ self.name)\n",
    "\n",
    "class Programmer(User):\n",
    "    def __init__(self,name):\n",
    "        self.name = name\n",
    "    def doPython(self):\n",
    "        print (\"Sedang belajar programming python\")\n",
    "\n",
    "aeni = User(\"Aeni\")\n",
    "aeni.printName()\n",
    "cantik = Programmer(\"Cantik\")\n",
    "cantik.printName()\n",
    "cantik.doPython()\n"
   ]
  },
  {
   "cell_type": "code",
   "execution_count": null,
   "metadata": {},
   "outputs": [],
   "source": []
  }
 ],
 "metadata": {
  "kernelspec": {
   "display_name": "Python 3",
   "language": "python",
   "name": "python3"
  },
  "language_info": {
   "codemirror_mode": {
    "name": "ipython",
    "version": 3
   },
   "file_extension": ".py",
   "mimetype": "text/x-python",
   "name": "python",
   "nbconvert_exporter": "python",
   "pygments_lexer": "ipython3",
   "version": "3.6.4"
  }
 },
 "nbformat": 4,
 "nbformat_minor": 2
}
