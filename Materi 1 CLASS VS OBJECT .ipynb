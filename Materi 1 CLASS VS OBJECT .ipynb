{
 "cells": [
  {
   "cell_type": "code",
   "execution_count": null,
   "metadata": {},
   "outputs": [],
   "source": [
    "                                                        BAB I\n",
    "\n",
    "                                                    CLASS VS OBJECT\n",
    "                                                INTRODUCTION OF CLASS\n",
    "\n",
    "- Attributes : Apa yang dia punya, apa yang dia tahu (Property) atau data anggota dan method, diakses dengan notasi titik.\n",
    "- Methods   : Apa yang bisa dikerjakan atau jenis function khusus yang didefinisikan dalam definisi class.\n",
    "    \n",
    "Saat mendesain class, kita harus pikirkan tentang object yang akan dibuat dari Type Class :\n",
    "    \tSesuatu yang object tahu tentang dirinya sendiri\n",
    "        •\tInstance variables (keadaan/kondisi)\n",
    "    \tSesuatu yang dapat dilakukan object\n",
    "        •\tMethod (tindakan)\n",
    "~ Base Class\t: properties dan methods\n",
    "\t\tCreate Instance \n",
    "~ Object \t: property value dan methods\n",
    "\n",
    "\n",
    "-\tPerbedaan Class dan Object\n",
    "Class bukanlah object. Satu class dapat memiliki banyak object. \n",
    "Contoh analogi untuk object adalah paket kartu rolodex yang tidak digunakan. \n",
    "Setiap kartu yang digunakan memiliki kolong kosong yang sama (variable instance). \n",
    "Saat mengisi kartu, kita membuat instance(object), dan entri yang dibuat pada kartu yang mewakili statusnya.  \n",
    "Method class yaitu sesuatu yang dilakukan pada kartu; getName(),changeName(),setName() \n",
    "semua dapat menjadi method untuk class rolodex. \n",
    "Jadi setiap kartu bisa melakukan hal yang sama, tetapi setiap kartu tahu sesuatu yang unik dalam kartu itu.\n",
    "\n",
    "-Class\n",
    "    Adalah code template, wadah, atau cetekan  untuk membuat object. \n",
    "    Object memiliki variabel anggota dan memiliki perilaku yang terkait dengannya. \n",
    "    Di class python yang dibuat oleh keyword class. \n",
    "    Class digunakan untuk mendefinisikan objek yang menyimpan data dengan nilai dan perilaku.\n",
    "-Object\n",
    "    Adalah object yang dibuat menggunakan constructor dari class. \n",
    "    Object ini kemudian akan dipanggil di instance class(representasi nyata dari class itu sendiri) \n",
    "\n"
   ]
  },
  {
   "cell_type": "code",
   "execution_count": 1,
   "metadata": {},
   "outputs": [
    {
     "name": "stdout",
     "output_type": "stream",
     "text": [
      "Aeni , Manager Gaji 150000\n"
     ]
    }
   ],
   "source": [
    "class Pegawai :\n",
    "    def __init__(self,n,j,g):\n",
    "        self.nama = n    #mengakses method objek menggunakan operator titik\n",
    "        self.jabatan = j\n",
    "        self.gaji = g\n",
    "    def tampilkan(self):\n",
    "        print(self.nama,\",\",self.jabatan,\"Gaji\",self.gaji*30)\n",
    "\n",
    "p1 = Pegawai(\"Aeni\",\"Manager\",5000)\n",
    "p1.tampilkan()          #instansi object(membuat objek dr sebuah class)\n",
    "                        #argumen sesuai dg fungsi __init__() pada saat mendefinisikannya\n"
   ]
  },
  {
   "cell_type": "code",
   "execution_count": 2,
   "metadata": {},
   "outputs": [
    {
     "name": "stdout",
     "output_type": "stream",
     "text": [
      "4\n",
      "luas 16\n"
     ]
    }
   ],
   "source": [
    "class Kubus :\n",
    "    def __init__(self,s): \n",
    "        self.sisi = s \n",
    "    def tampilkan(self):\n",
    "        print(self.sisi)\n",
    "    def luas(self):\n",
    "        print(\"luas\",self.sisi**2)\n",
    "    def volume(self):\n",
    "        print(\"volume\",self.luas**3)\n",
    "    def luaspermukaan(self):\n",
    "        print(\"luas permukaan\",self.sisi*self.sisi)\n",
    "kll=Kubus(4)\n",
    "kll.tampilkan()\n",
    "kll.luas()\n"
   ]
  },
  {
   "cell_type": "code",
   "execution_count": null,
   "metadata": {},
   "outputs": [],
   "source": []
  }
 ],
 "metadata": {
  "kernelspec": {
   "display_name": "Python 3",
   "language": "python",
   "name": "python3"
  },
  "language_info": {
   "codemirror_mode": {
    "name": "ipython",
    "version": 3
   },
   "file_extension": ".py",
   "mimetype": "text/x-python",
   "name": "python",
   "nbconvert_exporter": "python",
   "pygments_lexer": "ipython3",
   "version": "3.6.4"
  }
 },
 "nbformat": 4,
 "nbformat_minor": 2
}
